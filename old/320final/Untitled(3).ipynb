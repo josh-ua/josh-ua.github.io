{
 "cells": [
  {
   "cell_type": "markdown",
   "metadata": {},
   "source": [
    "<h1>Analysis of Online Body Transformations</h1>\n",
    "\n",
    "Zachary Wynegar and Joshua Karper<br />\n",
    "University of Maryland, College Park<br />\n",
    "\n",
    "__[Reddit](https://www.reddit.com)__\n",
    "is an online forum where users are able to create posts on a digital messageboard. A portion of the website is dedicated to body progress transformation pictures where users create a title describing their body transformation, then upload photos of themselves before and after their body transformation. This tutorial performs an analysis of these postings including scraping the data from the reddit servers, storing large amounts of post data, parsing user-created threads to extract usable data, and analyzing result data. By the end of this tutorial you should know (1) how to scrape data from reddit servers, (2) how to parse body transformation 1-line summaries for usable data, (3) how to clean that data, (4) be able to see some neat trends, (5) and even some classification.\n",
    "<br /><br />\n",
    "\n",
    "In particular, we're going to be scraping and looking at data from two different subreddits - __[/r/progresspics](https://www.reddit.com/r/progresspics)__ & __[/r/brogress](https://www.reddit.com/r//r/brogress)__. As we'll find out, both subreddits are based around body transformations, but it turns out they do it different ways.\n"
   ]
  },
  {
   "cell_type": "code",
   "execution_count": 33,
   "metadata": {
    "collapsed": true
   },
   "outputs": [],
   "source": [
    "# Imports\n",
    "import time\n",
    "import sqlite3\n",
    "import requests\n",
    "import json\n",
    "import random\n",
    "import re\n",
    "import pandas as pd\n",
    "import numpy as np\n",
    "%matplotlib inline\n",
    "import matplotlib.pyplot as plt\n",
    "from sklearn.ensemble import RandomForestClassifier\n",
    "from sklearn.model_selection import cross_val_score\n",
    "\n",
    "# Database Connection\n",
    "conn = sqlite3.connect('data.db')\n",
    "cursor = conn.cursor()"
   ]
  },
  {
   "cell_type": "markdown",
   "metadata": {},
   "source": [
    "<h3>1. Data Collection & Parsing</h3>\n",
    "\n",
    "Before any analysis can be performed the data must first be collected. Luckily in this application, the data source (Reddit) has an API exposed where data can be pulled from and already (sorta) parsed. Unluckily, we have two constraints to deal with: <b>(1)</b> thread titles containing key information such as gender, start weight, and end weight are not parsed, and <b>(2)</b> we are limited to pulling 25 records at a time from the reddit servers.\n",
    "\n",
    "<b>[1] Dealing with unparsed thread titles</b><br />\n",
    "There are many ways data can be extracted from the thread titles. In a complicated situation, one may use supervised machine learning to identify the values based off user-provided keys. While some would perform parsing after data collection, we are going to perform parsing alongside data collection to minimize postprocessing and create code readability (<i>in some situations you may need to do parsing seperatley as you may need the data before you can parse it, such as with __[machine learning](https://en.wikipedia.org/wiki/Natural_language_processing)__</i>). Before determining a method of data parsing, let's take a glance at the data:"
   ]
  },
  {
   "cell_type": "markdown",
   "metadata": {},
   "source": [
    "<img src=\"sample_data.png\" style=\"height: 70%;width: 70%;\" />"
   ]
  },
  {
   "cell_type": "markdown",
   "metadata": {},
   "source": [
    "As can be seen in the image, it appears the titles are already semi-formatted. All use the format {Gender}/{Age}/{Height} at the beginning. Some titles include the duration in parenthesis next to the weight range and some do not. Some of the weight ranges indicate the unit and some do not. It is realistically assumed that the lack of units indicates pounds. Based off the semi-structured string formatting the best way to extract usable data in this situation is using __[Regular Expression](https://regexr.com)__."
   ]
  },
  {
   "cell_type": "code",
   "execution_count": 34,
   "metadata": {},
   "outputs": [
    {
     "name": "stdout",
     "output_type": "stream",
     "text": [
      "F/24/5'2\" [223lbs > 132lbs = 91lbs] (17 months) (KETO) Polycystic Ovarian Syndrome, Hypothyroidism & Binge Eating Disorder had me convinced that losing weight was hopeless... FIGHT THE GOOD FIGHT!\n",
      "Gender:F\n",
      "Age:24\n",
      "Height (ft):5\n",
      "Height (in):2\n",
      "Start Weight:223\n",
      "End Weight:132\n",
      "Length Amount:17\n",
      "Length Unit:months\n",
      "\n",
      "Match Failure\n",
      "\n",
      "Match Failure\n",
      "\n",
      "M/24/6' [268>203 = 65lbs](9 months) I'm embarrassed to show my face but that's where you can see a little progress\n",
      "Gender:M\n",
      "Age:24\n",
      "Height (ft):6\n",
      "Height (in):\n",
      "Start Weight:268\n",
      "End Weight:203\n",
      "Length Amount:9\n",
      "Length Unit:months\n",
      "\n",
      "Match Failure\n",
      "\n",
      "Match Failure\n",
      "\n",
      "F/18/5'5\" [160lbs > 127lbs = 33lbs] (6 months) Maybe not the biggest weight loss Reddit has ever seen but I've got a bit of my old confidence back. :)\n",
      "Gender:F\n",
      "Age:18\n",
      "Height (ft):5\n",
      "Height (in):5\n",
      "Start Weight:160\n",
      "End Weight:127\n",
      "Length Amount:6\n",
      "Length Unit:months\n",
      "\n",
      "Match Failure\n",
      "\n",
      "Match Failure\n",
      "\n"
     ]
    }
   ],
   "source": [
    "sample_titles = [\n",
    "    \"\"\"F/24/5'2\" [223lbs > 132lbs = 91lbs] (17 months) (KETO) Polycystic Ovarian Syndrome, Hypothyroidism & Binge Eating Disorder had me convinced that losing weight was hopeless... FIGHT THE GOOD FIGHT!\"\"\",\n",
    "    \"\"\"M/34/6’3” [263>153=110lbs] company holiday party 4 years apart with sideviews\"\"\",\n",
    "    \"\"\"F/26/5' [120lbs > 100 = 20lbs] Weight training and minimal cardio!\"\"\",\n",
    "    \"\"\"M/24/6' [268>203 = 65lbs](9 months) I'm embarrassed to show my face but that's where you can see a little progress\"\"\",\n",
    "    \"\"\"F/25/5'7\" [167>153=14lbs] November 3rd vs today. I was feeling discouraged after missing some days at the gym and the scale not moving but this was a huge reminder on how far I've come. 29lbs lost all together in 100 days!\"\"\",\n",
    "    \"\"\"F/30/5'6'' [185 > 177ish > 160 = 25 lbs] (4 months on and off) Post-pregnancy weight loss progress. 12 more lbs to go until pre-preg weight.\"\"\",\n",
    "    \"\"\"F/18/5'5\" [160lbs > 127lbs = 33lbs] (6 months) Maybe not the biggest weight loss Reddit has ever seen but I've got a bit of my old confidence back. :)\"\"\",\n",
    "    \"\"\"M 5'7” (170, 171, 172 cm)M/33/5'7\" [230lbs > 165lbs = 65lbs] (7 months) CICO, C25K, Push-ups, Sit-ups, Water Polo\"\"\",\n",
    "    \"\"\"F/23/5'6\" [300lbs > 170lbs = 130lbs] 1 year difference for a Coat Comparison! Forgive the red post workout face in the after\"\"\"\n",
    "]\n",
    "\n",
    "regex = r\"^(M|F)\\/(\\d+)\\/(\\d).(\\d?\\d?).?\\s*\\[(\\d+)\\w*\\s*>\\s*(\\d+).*]\\s*\\((\\d+)\\s*(\\w+)\"\n",
    "\n",
    "for title in sample_titles:\n",
    "    matchObj = re.match( regex, title, re.M|re.I)\n",
    "    \n",
    "    if( matchObj ):\n",
    "        print( title )\n",
    "        print(\"Gender:\" + matchObj.group(1))\n",
    "        print(\"Age:\" + matchObj.group(2))\n",
    "        print(\"Height (ft):\" + matchObj.group(3))\n",
    "        print(\"Height (in):\" + matchObj.group(4))\n",
    "        print(\"Start Weight:\" + matchObj.group(5))\n",
    "        print(\"End Weight:\" + matchObj.group(6))\n",
    "        print(\"Length Amount:\" + matchObj.group(7))\n",
    "        print(\"Length Unit:\" + matchObj.group(8))\n",
    "        print( \"\" )\n",
    "    else:\n",
    "        print( \"Match Failure\\n\" )"
   ]
  },
  {
   "cell_type": "code",
   "execution_count": 35,
   "metadata": {
    "collapsed": true
   },
   "outputs": [],
   "source": [
    "# Scraper Configuration\n",
    "working_hash = \"t3_7cp6m7\"\n",
    "subreddit = \"progresspics\"\n",
    "regex = r\"^(M|F)\\/(\\d+)\\/(\\d).(\\d?\\d?).?\\s*\\[(\\d+)\\w*\\s*&gt;\\s*(\\d+).*]\\s*\\((\\d+)\\s*(\\w+)\"\n",
    "\n",
    "#working_hash = \"t3_7hjhml\"\n",
    "#subreddit = \"brogress\"   #slightly different regex for /r/brogress, same general format.\n",
    "#regex = r\"^(M|F)\\/(\\d+)\\/(\\d).(\\d?\\d?).?\\s*\\[(\\d+)\\w+\\s*to\\s*(\\d+).*]\\s*\\((\\d+)\\s*(\\w+)\"\n",
    "\n",
    "# Initialize SQLite3 Database\n",
    "def initialize_database():\n",
    "  # Create `threads` table\n",
    "  conn.execute( \"\"\"\n",
    "    CREATE TABLE IF NOT EXISTS threads (\n",
    "      reddit_uid STRING NOT NULL PRIMARY KEY,\n",
    "      subreddit STRING NOT NULL,\n",
    "      working_hash STRING NOT NULL,\n",
    "      flair_text STRING,\n",
    "      thumbnail STRING,\n",
    "      created_utc INT NOT NULL,\n",
    "      title STRING NOT NULL,\n",
    "      url STRING NOT NULL,\n",
    "      permalink STRING NOT NULL,\n",
    "      score INT\n",
    "    );\n",
    "  \"\"\" )\n",
    "  \n",
    "  conn.execute( \"\"\"\n",
    "    CREATE TABLE IF NOT EXISTS threads_parsed (\n",
    "      reddit_uid STRING NOT NULL PRIMARY KEY,\n",
    "      gender STRING,\n",
    "      age INT,\n",
    "      height_ft INT,\n",
    "      height_in INT,\n",
    "      weight_start INT,\n",
    "      weight_end INT,\n",
    "      length_amount INT,\n",
    "      length_unit STRING\n",
    "    );\n",
    "  \"\"\" )\n",
    "\n",
    "# Generate a Reddit API Query URL\n",
    "def generate_scape_path():\n",
    "  return \"https://api.reddit.com/r/\" + subreddit + \"/new/?count=25&after=\" + working_hash\n",
    "\n",
    "# Pull data from the API\n",
    "def fetch_remote():\n",
    "  p = generate_scape_path()\n",
    "  r = requests.get( p, headers = {'User-agent': 'Chrome'} )\n",
    "  \n",
    "  if r.status_code != 200:\n",
    "    print( \"** Error querying, retrying in 5 seconds... [\" + generate_scape_path() + \"]\" )\n",
    "    print( r.content )\n",
    "    \n",
    "    time.sleep( 5 )\n",
    "    return fetch_remote()\n",
    "    \n",
    "  else:\n",
    "    return r.content\n",
    "\n",
    "# Begin scraping!\n",
    "def scrape():\n",
    "  global working_hash\n",
    "  \n",
    "  # Sleep to avoid spamming blacklist\n",
    "  time.sleep( 1 )\n",
    "  \n",
    "  # Query and get the data\n",
    "  reddit_response_raw = fetch_remote()\n",
    "  reddit_response = json.loads( reddit_response_raw )\n",
    "  reddit_response = reddit_response['data']\n",
    "\n",
    "  # Print the next working has\n",
    "  print( \"*** WORKING HASH: \" + working_hash )\n",
    "  print( \"*** NEXT WORKING HASH: \" + reddit_response['after'] )\n",
    "\n",
    "  # Loop through each posted body transformation thread in the response\n",
    "  for thread_raw in reddit_response['children']:\n",
    "    # Get the actual data\n",
    "    thread = thread_raw['data']\n",
    "\n",
    "    # Attempt to parse based on the title\n",
    "    matchObj = re.match( regex, thread['title'], re.M|re.I )\n",
    "\n",
    "    if( matchObj ):\n",
    "        print( \"Parsed\" );\n",
    "        \n",
    "        # Insert this parsed thread\n",
    "        conn.execute( \"INSERT INTO threads_parsed VALUES (?, ?, ?, ?, ?, ?, ?, ?, ?);\", (\n",
    "          thread['id'].encode('ascii','ignore'),\n",
    "          matchObj.group(1),\n",
    "          int(matchObj.group(2) or 0),\n",
    "          int(matchObj.group(3) or 0),\n",
    "          int(matchObj.group(4) or 0),\n",
    "          int(matchObj.group(5) or 0),\n",
    "          int(matchObj.group(6) or 0),\n",
    "          int(matchObj.group(7) or 0),\n",
    "          matchObj.group(8)\n",
    "        ) )\n",
    "    else:\n",
    "        print( \"Match Failure\" )\n",
    "\n",
    "    # Insert it into the database\n",
    "    conn.execute( \"INSERT INTO threads VALUES (?, ?, ?, ?, ?, ?, ?, ?, ?, ?);\", (\n",
    "      thread['id'].encode('ascii','ignore'),\n",
    "      thread['subreddit'].encode('ascii','ignore'),\n",
    "      working_hash,\n",
    "      \"\",\n",
    "      thread['thumbnail'].encode('ascii','ignore'),\n",
    "      int(thread['created_utc']),\n",
    "      thread['title'].encode('ascii','ignore'),\n",
    "      thread['url'].encode('ascii','ignore'),\n",
    "      thread['permalink'].encode('ascii','ignore'),\n",
    "      thread['score'],\n",
    "    ) )\n",
    "  \n",
    "    # Commit to the database\n",
    "    conn.commit()\n",
    "  \n",
    "  # Get the next working hash\n",
    "  working_hash = reddit_response['after']\n",
    "  \n",
    "  # Run Recursivley\n",
    "  scrape()\n",
    "\n",
    "# Start the script\n",
    "# initialize_database()\n",
    "# scrape()"
   ]
  },
  {
   "cell_type": "code",
   "execution_count": 62,
   "metadata": {},
   "outputs": [
    {
     "data": {
      "text/html": [
       "<div>\n",
       "<table border=\"1\" class=\"dataframe\">\n",
       "  <thead>\n",
       "    <tr style=\"text-align: right;\">\n",
       "      <th></th>\n",
       "      <th>reddit_uid</th>\n",
       "      <th>gender</th>\n",
       "      <th>age</th>\n",
       "      <th>height_ft</th>\n",
       "      <th>height_in</th>\n",
       "      <th>weight_start</th>\n",
       "      <th>weight_end</th>\n",
       "      <th>length_amount</th>\n",
       "      <th>length_unit</th>\n",
       "      <th>subreddit</th>\n",
       "      <th>title</th>\n",
       "      <th>url</th>\n",
       "      <th>score</th>\n",
       "    </tr>\n",
       "  </thead>\n",
       "  <tbody>\n",
       "    <tr>\n",
       "      <th>0</th>\n",
       "      <td>37m9gx</td>\n",
       "      <td>F</td>\n",
       "      <td>27</td>\n",
       "      <td>5</td>\n",
       "      <td>9</td>\n",
       "      <td>330</td>\n",
       "      <td>165</td>\n",
       "      <td>18</td>\n",
       "      <td>months</td>\n",
       "      <td>progresspics</td>\n",
       "      <td>F/27/5'9\" [330 &amp;gt; 165 = 165] (18 months) I l...</td>\n",
       "      <td>http://imgur.com/a/AmPfb</td>\n",
       "      <td>6740</td>\n",
       "    </tr>\n",
       "    <tr>\n",
       "      <th>1</th>\n",
       "      <td>4aaol5</td>\n",
       "      <td>F</td>\n",
       "      <td>30</td>\n",
       "      <td>5</td>\n",
       "      <td>4</td>\n",
       "      <td>374</td>\n",
       "      <td>278</td>\n",
       "      <td>16</td>\n",
       "      <td>months</td>\n",
       "      <td>progresspics</td>\n",
       "      <td>F/30/5'4\" [374 &amp;gt; 278 = 96lbs] (16 months) A...</td>\n",
       "      <td>http://imgur.com/OUUPjy4</td>\n",
       "      <td>6721</td>\n",
       "    </tr>\n",
       "    <tr>\n",
       "      <th>2</th>\n",
       "      <td>79kx6t</td>\n",
       "      <td>F</td>\n",
       "      <td>26</td>\n",
       "      <td>5</td>\n",
       "      <td>4</td>\n",
       "      <td>278</td>\n",
       "      <td>150</td>\n",
       "      <td>1</td>\n",
       "      <td>year</td>\n",
       "      <td>progresspics</td>\n",
       "      <td>F/26/54 [278lbs &amp;gt; 150lbs = 128lbs] (1 year ...</td>\n",
       "      <td>https://i.redd.it/gq1uivx0ovuz.jpg</td>\n",
       "      <td>6651</td>\n",
       "    </tr>\n",
       "    <tr>\n",
       "      <th>3</th>\n",
       "      <td>6nxc1c</td>\n",
       "      <td>F</td>\n",
       "      <td>21</td>\n",
       "      <td>5</td>\n",
       "      <td>2</td>\n",
       "      <td>190</td>\n",
       "      <td>130</td>\n",
       "      <td>2</td>\n",
       "      <td>years</td>\n",
       "      <td>progresspics</td>\n",
       "      <td>F/21/5'2\" [190lbs &amp;gt;130lbs =60lbs] (2 years)...</td>\n",
       "      <td>https://imgur.com/SVEFw0G</td>\n",
       "      <td>6195</td>\n",
       "    </tr>\n",
       "    <tr>\n",
       "      <th>4</th>\n",
       "      <td>3mi83c</td>\n",
       "      <td>F</td>\n",
       "      <td>22</td>\n",
       "      <td>5</td>\n",
       "      <td>4</td>\n",
       "      <td>170</td>\n",
       "      <td>126</td>\n",
       "      <td>14</td>\n",
       "      <td>months</td>\n",
       "      <td>progresspics</td>\n",
       "      <td>F/22/5'4\" [170lbs &amp;gt; 126lbs = 44lbs] (14 mon...</td>\n",
       "      <td>http://i.imgur.com/dvXezvc.png</td>\n",
       "      <td>6163</td>\n",
       "    </tr>\n",
       "  </tbody>\n",
       "</table>\n",
       "</div>"
      ],
      "text/plain": [
       "  reddit_uid gender  age  height_ft  height_in  weight_start  weight_end  \\\n",
       "0     37m9gx      F   27          5          9           330         165   \n",
       "1     4aaol5      F   30          5          4           374         278   \n",
       "2     79kx6t      F   26          5          4           278         150   \n",
       "3     6nxc1c      F   21          5          2           190         130   \n",
       "4     3mi83c      F   22          5          4           170         126   \n",
       "\n",
       "   length_amount length_unit     subreddit  \\\n",
       "0             18      months  progresspics   \n",
       "1             16      months  progresspics   \n",
       "2              1        year  progresspics   \n",
       "3              2       years  progresspics   \n",
       "4             14      months  progresspics   \n",
       "\n",
       "                                               title  \\\n",
       "0  F/27/5'9\" [330 &gt; 165 = 165] (18 months) I l...   \n",
       "1  F/30/5'4\" [374 &gt; 278 = 96lbs] (16 months) A...   \n",
       "2  F/26/54 [278lbs &gt; 150lbs = 128lbs] (1 year ...   \n",
       "3  F/21/5'2\" [190lbs &gt;130lbs =60lbs] (2 years)...   \n",
       "4  F/22/5'4\" [170lbs &gt; 126lbs = 44lbs] (14 mon...   \n",
       "\n",
       "                                  url  score  \n",
       "0            http://imgur.com/a/AmPfb   6740  \n",
       "1            http://imgur.com/OUUPjy4   6721  \n",
       "2  https://i.redd.it/gq1uivx0ovuz.jpg   6651  \n",
       "3           https://imgur.com/SVEFw0G   6195  \n",
       "4      http://i.imgur.com/dvXezvc.png   6163  "
      ]
     },
     "execution_count": 62,
     "metadata": {},
     "output_type": "execute_result"
    }
   ],
   "source": [
    "# Load the results into a DataFrame\n",
    "data = pd.read_sql_query( \"\"\"\n",
    "    SELECT\n",
    "        threads.reddit_uid,\n",
    "        parsed.gender,\n",
    "        parsed.age,\n",
    "        parsed.height_ft,\n",
    "        parsed.height_in,\n",
    "        parsed.weight_start,\n",
    "        parsed.weight_end,\n",
    "        parsed.length_amount,\n",
    "        parsed.length_unit,\n",
    "        threads.subreddit,\n",
    "        threads.title,\n",
    "        threads.url,\n",
    "        threads.score\n",
    "    FROM\n",
    "        threads,\n",
    "        threads_parsed as parsed\n",
    "    WHERE\n",
    "        threads.reddit_uid = parsed.reddit_uid\n",
    "\"\"\", conn )\n",
    "\n",
    "data.head()"
   ]
  },
  {
   "cell_type": "markdown",
   "metadata": {
    "collapsed": true
   },
   "source": [
    "<h3> 2. Data Tidying </h3>\n",
    "<p>We now have our data. Great! But uh oh, there's a few problems and it's a little messy. Let's take a look at what the problems are and how we can fix them.</p>"
   ]
  },
  {
   "cell_type": "markdown",
   "metadata": {
    "collapsed": true
   },
   "source": [
    "<h5>Why can't everyone use the metric system?</h5>\n",
    "<p>Right now, our data does not differentiate between the imperial and metric system measurements (despite the column names). Here’s a few posts filtered by having ‘kg’ in the title:</p>\n",
    "    "
   ]
  },
  {
   "cell_type": "code",
   "execution_count": 37,
   "metadata": {
    "scrolled": true
   },
   "outputs": [
    {
     "data": {
      "text/html": [
       "<div>\n",
       "<table border=\"1\" class=\"dataframe\">\n",
       "  <thead>\n",
       "    <tr style=\"text-align: right;\">\n",
       "      <th></th>\n",
       "      <th>reddit_uid</th>\n",
       "      <th>gender</th>\n",
       "      <th>age</th>\n",
       "      <th>height_ft</th>\n",
       "      <th>height_in</th>\n",
       "      <th>weight_start</th>\n",
       "      <th>weight_end</th>\n",
       "      <th>length_amount</th>\n",
       "      <th>length_unit</th>\n",
       "      <th>subreddit</th>\n",
       "      <th>title</th>\n",
       "      <th>url</th>\n",
       "      <th>score</th>\n",
       "    </tr>\n",
       "  </thead>\n",
       "  <tbody>\n",
       "    <tr>\n",
       "      <th>107</th>\n",
       "      <td>5321at</td>\n",
       "      <td>F</td>\n",
       "      <td>34</td>\n",
       "      <td>5</td>\n",
       "      <td>5</td>\n",
       "      <td>220</td>\n",
       "      <td>139</td>\n",
       "      <td>1</td>\n",
       "      <td>year</td>\n",
       "      <td>progresspics</td>\n",
       "      <td>F/34/5'5\" [220lbs &amp;gt; 139lbs =81lbs] (1 year ...</td>\n",
       "      <td>https://i.redd.it/mlnbncx7cwlx.jpg</td>\n",
       "      <td>3116</td>\n",
       "    </tr>\n",
       "    <tr>\n",
       "      <th>382</th>\n",
       "      <td>6xdqbe</td>\n",
       "      <td>M</td>\n",
       "      <td>20</td>\n",
       "      <td>5</td>\n",
       "      <td>10</td>\n",
       "      <td>68</td>\n",
       "      <td>75</td>\n",
       "      <td>1</td>\n",
       "      <td>year</td>\n",
       "      <td>Brogress</td>\n",
       "      <td>M/20/5'10\" [68kg to 75kg] (1 year; 8 Months) +...</td>\n",
       "      <td>http://imgur.com/a/EQOqh</td>\n",
       "      <td>289</td>\n",
       "    </tr>\n",
       "    <tr>\n",
       "      <th>278</th>\n",
       "      <td>6cnr2i</td>\n",
       "      <td>M</td>\n",
       "      <td>22</td>\n",
       "      <td>5</td>\n",
       "      <td>6</td>\n",
       "      <td>90</td>\n",
       "      <td>68</td>\n",
       "      <td>22</td>\n",
       "      <td>months</td>\n",
       "      <td>progresspics</td>\n",
       "      <td>M/22/5'6\" [90kg&amp;gt;68kg=22kg] (22 months) I am...</td>\n",
       "      <td>https://i.redd.it/s8yrm7ifg2zy.jpg</td>\n",
       "      <td>1982</td>\n",
       "    </tr>\n",
       "  </tbody>\n",
       "</table>\n",
       "</div>"
      ],
      "text/plain": [
       "    reddit_uid gender  age  height_ft  height_in  weight_start  weight_end  \\\n",
       "107     5321at      F   34          5          5           220         139   \n",
       "382     6xdqbe      M   20          5         10            68          75   \n",
       "278     6cnr2i      M   22          5          6            90          68   \n",
       "\n",
       "     length_amount length_unit     subreddit  \\\n",
       "107              1        year  progresspics   \n",
       "382              1        year      Brogress   \n",
       "278             22      months  progresspics   \n",
       "\n",
       "                                                 title  \\\n",
       "107  F/34/5'5\" [220lbs &gt; 139lbs =81lbs] (1 year ...   \n",
       "382  M/20/5'10\" [68kg to 75kg] (1 year; 8 Months) +...   \n",
       "278  M/22/5'6\" [90kg&gt;68kg=22kg] (22 months) I am...   \n",
       "\n",
       "                                    url  score  \n",
       "107  https://i.redd.it/mlnbncx7cwlx.jpg   3116  \n",
       "382            http://imgur.com/a/EQOqh    289  \n",
       "278  https://i.redd.it/s8yrm7ifg2zy.jpg   1982  "
      ]
     },
     "execution_count": 37,
     "metadata": {},
     "output_type": "execute_result"
    }
   ],
   "source": [
    "data[data.title.str.contains('kg')].sample(3)"
   ]
  },
  {
   "cell_type": "markdown",
   "metadata": {},
   "source": [
    "<p>And here's a similar filter where the users provided their heights in meters:</p>"
   ]
  },
  {
   "cell_type": "code",
   "execution_count": 38,
   "metadata": {},
   "outputs": [
    {
     "data": {
      "text/html": [
       "<div>\n",
       "<table border=\"1\" class=\"dataframe\">\n",
       "  <thead>\n",
       "    <tr style=\"text-align: right;\">\n",
       "      <th></th>\n",
       "      <th>reddit_uid</th>\n",
       "      <th>gender</th>\n",
       "      <th>age</th>\n",
       "      <th>height_ft</th>\n",
       "      <th>height_in</th>\n",
       "      <th>weight_start</th>\n",
       "      <th>weight_end</th>\n",
       "      <th>length_amount</th>\n",
       "      <th>length_unit</th>\n",
       "      <th>subreddit</th>\n",
       "      <th>title</th>\n",
       "      <th>url</th>\n",
       "      <th>score</th>\n",
       "    </tr>\n",
       "  </thead>\n",
       "  <tbody>\n",
       "    <tr>\n",
       "      <th>811</th>\n",
       "      <td>5zjeal</td>\n",
       "      <td>M</td>\n",
       "      <td>24</td>\n",
       "      <td>1</td>\n",
       "      <td>90</td>\n",
       "      <td>100</td>\n",
       "      <td>106</td>\n",
       "      <td>3</td>\n",
       "      <td>months</td>\n",
       "      <td>Brogress</td>\n",
       "      <td>M/24/1m90 [100kg to 106kg] (3 months)</td>\n",
       "      <td>https://i.redd.it/tx4ina05skly.jpg</td>\n",
       "      <td>85</td>\n",
       "    </tr>\n",
       "    <tr>\n",
       "      <th>644</th>\n",
       "      <td>6agw4n</td>\n",
       "      <td>M</td>\n",
       "      <td>25</td>\n",
       "      <td>1</td>\n",
       "      <td>94</td>\n",
       "      <td>72</td>\n",
       "      <td>87</td>\n",
       "      <td>7</td>\n",
       "      <td>months</td>\n",
       "      <td>Brogress</td>\n",
       "      <td>M/25/1m94 [72kg to 87kg] (7 months) + (B: 60kg...</td>\n",
       "      <td>http://imgur.com/a/s0miH</td>\n",
       "      <td>136</td>\n",
       "    </tr>\n",
       "    <tr>\n",
       "      <th>645</th>\n",
       "      <td>5y8azp</td>\n",
       "      <td>M</td>\n",
       "      <td>17</td>\n",
       "      <td>1</td>\n",
       "      <td>78</td>\n",
       "      <td>54</td>\n",
       "      <td>70</td>\n",
       "      <td>7</td>\n",
       "      <td>months</td>\n",
       "      <td>Brogress</td>\n",
       "      <td>M/17/1m78 [54kg to 70kg] (7 months)</td>\n",
       "      <td>https://i.redd.it/nw8tg7de67ky.png</td>\n",
       "      <td>135</td>\n",
       "    </tr>\n",
       "  </tbody>\n",
       "</table>\n",
       "</div>"
      ],
      "text/plain": [
       "    reddit_uid gender  age  height_ft  height_in  weight_start  weight_end  \\\n",
       "811     5zjeal      M   24          1         90           100         106   \n",
       "644     6agw4n      M   25          1         94            72          87   \n",
       "645     5y8azp      M   17          1         78            54          70   \n",
       "\n",
       "     length_amount length_unit subreddit  \\\n",
       "811              3      months  Brogress   \n",
       "644              7      months  Brogress   \n",
       "645              7      months  Brogress   \n",
       "\n",
       "                                                 title  \\\n",
       "811              M/24/1m90 [100kg to 106kg] (3 months)   \n",
       "644  M/25/1m94 [72kg to 87kg] (7 months) + (B: 60kg...   \n",
       "645                M/17/1m78 [54kg to 70kg] (7 months)   \n",
       "\n",
       "                                    url  score  \n",
       "811  https://i.redd.it/tx4ina05skly.jpg     85  \n",
       "644            http://imgur.com/a/s0miH    136  \n",
       "645  https://i.redd.it/nw8tg7de67ky.png    135  "
      ]
     },
     "execution_count": 38,
     "metadata": {},
     "output_type": "execute_result"
    }
   ],
   "source": [
    "data[data['height_ft'] < 3].sample(3)"
   ]
  },
  {
   "cell_type": "markdown",
   "metadata": {},
   "source": [
    "<p>As you can see, the weights and/or heights are not standardized for these. To remedy this, we are going to standardize weight by converting all kilogram weights to pounds, and standardize height by converting all heights to inches.</p>\n",
    "\n",
    "<p>Since some users like to mix both systems together (see below for two examples), for the standardizing the weights we are going to multiply the start and end weights of those entries who have 'kg' or 'kgs' in the first 20 characters of the title. To find users who gave their height in meters, we'll filtering when their height is less than 3. We'll also be converting all imperal feet and inches to standard inches as well along the way.</p>"
   ]
  },
  {
   "cell_type": "code",
   "execution_count": 39,
   "metadata": {},
   "outputs": [
    {
     "name": "stdout",
     "output_type": "stream",
     "text": [
      "M/20/5'9\" [128lbs to 145lbs] (1 year; 6 months) + (B: 60kg; S: 110kg; D: 100kg) - (excuse the towel)\n",
      "\n",
      "F/34/5'5\" [220lbs &gt; 139lbs =81lbs] (1 year of active weightloss, 1 year maintenance). First pic is from 01/14, second to last 12 months later, that's when i dropped most the weight (100kg to 67kg). Last pic is me at my smallest at 63kg in 03/16.\n"
     ]
    }
   ],
   "source": [
    "#People who mix measurement systems randomly - heathens or not? You decide. \n",
    "\n",
    "print(data.iloc[610]['title']+ \"\\n\") #Alright, weightlifting gets a pass...\n",
    "\n",
    "print(data.iloc[107]['title']) #but why on Earth would you switch mid-title with no context like this one? :(\n"
   ]
  },
  {
   "cell_type": "code",
   "execution_count": 40,
   "metadata": {
    "collapsed": true
   },
   "outputs": [],
   "source": [
    "for index, row in data.iterrows():\n",
    "\n",
    "    #convert weight - \n",
    "    if ('kg' in row['title'][0:19]) or ('kgs' in row['title'][0:19]):\n",
    "        data.at[index,'weight_start'] = int(row['weight_start'] * 2.2) #integers only\n",
    "        data.at[index,'weight_end'] = int(row['weight_end'] * 2.2)\n",
    "        \n",
    "    #convert height - we're going to replace the value in the 'height_in' column and drop the \"height_ft\" column \n",
    "    #when we're done.\n",
    "    \n",
    "    if (row['height_ft'] < 3):\n",
    "        centimeters = (row['height_ft'] * 100) + row['height_in']\n",
    "        data.at[index,'height_in'] = int(centimeters / 2.54)\n",
    "        \n",
    "    else:\n",
    "        data.at[index,'height_in'] = (row['height_ft'] * 12) + row['height_in']\n",
    "        \n",
    "\n",
    "#as promised\n",
    "data.drop('height_ft', axis=1, inplace=True)"
   ]
  },
  {
   "cell_type": "code",
   "execution_count": 41,
   "metadata": {},
   "outputs": [
    {
     "data": {
      "text/html": [
       "<div>\n",
       "<table border=\"1\" class=\"dataframe\">\n",
       "  <thead>\n",
       "    <tr style=\"text-align: right;\">\n",
       "      <th></th>\n",
       "      <th>reddit_uid</th>\n",
       "      <th>gender</th>\n",
       "      <th>age</th>\n",
       "      <th>height_in</th>\n",
       "      <th>weight_start</th>\n",
       "      <th>weight_end</th>\n",
       "      <th>length_amount</th>\n",
       "      <th>length_unit</th>\n",
       "      <th>subreddit</th>\n",
       "      <th>title</th>\n",
       "      <th>url</th>\n",
       "      <th>score</th>\n",
       "    </tr>\n",
       "  </thead>\n",
       "  <tbody>\n",
       "    <tr>\n",
       "      <th>197</th>\n",
       "      <td>6kfmwq</td>\n",
       "      <td>M</td>\n",
       "      <td>21</td>\n",
       "      <td>72</td>\n",
       "      <td>235</td>\n",
       "      <td>175</td>\n",
       "      <td>1</td>\n",
       "      <td>year</td>\n",
       "      <td>progresspics</td>\n",
       "      <td>M/21/6' [235 &amp;gt; 175 = 60lbs] (1 year) What l...</td>\n",
       "      <td>https://i.redd.it/x2z9auvv1s6z.jpg</td>\n",
       "      <td>2375</td>\n",
       "    </tr>\n",
       "    <tr>\n",
       "      <th>603</th>\n",
       "      <td>2wjc5c</td>\n",
       "      <td>F</td>\n",
       "      <td>37</td>\n",
       "      <td>70</td>\n",
       "      <td>130</td>\n",
       "      <td>135</td>\n",
       "      <td>12</td>\n",
       "      <td>months</td>\n",
       "      <td>Brogress</td>\n",
       "      <td>F/37/5'10 [130 to 135](12 months) Backgress - ...</td>\n",
       "      <td>http://i.imgur.com/7GFIYcz.jpg</td>\n",
       "      <td>150</td>\n",
       "    </tr>\n",
       "    <tr>\n",
       "      <th>107</th>\n",
       "      <td>5321at</td>\n",
       "      <td>F</td>\n",
       "      <td>34</td>\n",
       "      <td>65</td>\n",
       "      <td>220</td>\n",
       "      <td>139</td>\n",
       "      <td>1</td>\n",
       "      <td>year</td>\n",
       "      <td>progresspics</td>\n",
       "      <td>F/34/5'5\" [220lbs &amp;gt; 139lbs =81lbs] (1 year ...</td>\n",
       "      <td>https://i.redd.it/mlnbncx7cwlx.jpg</td>\n",
       "      <td>3116</td>\n",
       "    </tr>\n",
       "  </tbody>\n",
       "</table>\n",
       "</div>"
      ],
      "text/plain": [
       "    reddit_uid gender  age  height_in  weight_start  weight_end  \\\n",
       "197     6kfmwq      M   21         72           235         175   \n",
       "603     2wjc5c      F   37         70           130         135   \n",
       "107     5321at      F   34         65           220         139   \n",
       "\n",
       "     length_amount length_unit     subreddit  \\\n",
       "197              1        year  progresspics   \n",
       "603             12      months      Brogress   \n",
       "107              1        year  progresspics   \n",
       "\n",
       "                                                 title  \\\n",
       "197  M/21/6' [235 &gt; 175 = 60lbs] (1 year) What l...   \n",
       "603  F/37/5'10 [130 to 135](12 months) Backgress - ...   \n",
       "107  F/34/5'5\" [220lbs &gt; 139lbs =81lbs] (1 year ...   \n",
       "\n",
       "                                    url  score  \n",
       "197  https://i.redd.it/x2z9auvv1s6z.jpg   2375  \n",
       "603      http://i.imgur.com/7GFIYcz.jpg    150  \n",
       "107  https://i.redd.it/mlnbncx7cwlx.jpg   3116  "
      ]
     },
     "execution_count": 41,
     "metadata": {},
     "output_type": "execute_result"
    }
   ],
   "source": [
    "data[data.title.str.contains('kg')].sample(3)"
   ]
  },
  {
   "cell_type": "code",
   "execution_count": 42,
   "metadata": {},
   "outputs": [
    {
     "data": {
      "text/html": [
       "<div>\n",
       "<table border=\"1\" class=\"dataframe\">\n",
       "  <thead>\n",
       "    <tr style=\"text-align: right;\">\n",
       "      <th></th>\n",
       "      <th>reddit_uid</th>\n",
       "      <th>gender</th>\n",
       "      <th>age</th>\n",
       "      <th>height_in</th>\n",
       "      <th>weight_start</th>\n",
       "      <th>weight_end</th>\n",
       "      <th>length_amount</th>\n",
       "      <th>length_unit</th>\n",
       "      <th>subreddit</th>\n",
       "      <th>title</th>\n",
       "      <th>url</th>\n",
       "      <th>score</th>\n",
       "    </tr>\n",
       "  </thead>\n",
       "  <tbody>\n",
       "    <tr>\n",
       "      <th>674</th>\n",
       "      <td>5aydjt</td>\n",
       "      <td>M</td>\n",
       "      <td>18</td>\n",
       "      <td>71</td>\n",
       "      <td>115</td>\n",
       "      <td>148</td>\n",
       "      <td>2</td>\n",
       "      <td>years</td>\n",
       "      <td>Brogress</td>\n",
       "      <td>M/18/5'11\" [115lbs to 148lbs] (2 years; 2 mont...</td>\n",
       "      <td>http://imgur.com/a/Tfl1m</td>\n",
       "      <td>127</td>\n",
       "    </tr>\n",
       "    <tr>\n",
       "      <th>667</th>\n",
       "      <td>4h7ady</td>\n",
       "      <td>M</td>\n",
       "      <td>21</td>\n",
       "      <td>75</td>\n",
       "      <td>150</td>\n",
       "      <td>180</td>\n",
       "      <td>2</td>\n",
       "      <td>years</td>\n",
       "      <td>Brogress</td>\n",
       "      <td>M/21/6'3\" [150lbs to 180lbs] (2 years; 4 month...</td>\n",
       "      <td>http://imgur.com/a/ShrRf</td>\n",
       "      <td>131</td>\n",
       "    </tr>\n",
       "    <tr>\n",
       "      <th>434</th>\n",
       "      <td>77qq30</td>\n",
       "      <td>M</td>\n",
       "      <td>26</td>\n",
       "      <td>71</td>\n",
       "      <td>150</td>\n",
       "      <td>170</td>\n",
       "      <td>4</td>\n",
       "      <td>years</td>\n",
       "      <td>Brogress</td>\n",
       "      <td>M/26/5'11\" [150lbs to 170lbs] (4 years) + (B: ...</td>\n",
       "      <td>https://i.redd.it/efccdmx6b3tz.jpg</td>\n",
       "      <td>244</td>\n",
       "    </tr>\n",
       "  </tbody>\n",
       "</table>\n",
       "</div>"
      ],
      "text/plain": [
       "    reddit_uid gender  age  height_in  weight_start  weight_end  \\\n",
       "674     5aydjt      M   18         71           115         148   \n",
       "667     4h7ady      M   21         75           150         180   \n",
       "434     77qq30      M   26         71           150         170   \n",
       "\n",
       "     length_amount length_unit subreddit  \\\n",
       "674              2       years  Brogress   \n",
       "667              2       years  Brogress   \n",
       "434              4       years  Brogress   \n",
       "\n",
       "                                                 title  \\\n",
       "674  M/18/5'11\" [115lbs to 148lbs] (2 years; 2 mont...   \n",
       "667  M/21/6'3\" [150lbs to 180lbs] (2 years; 4 month...   \n",
       "434  M/26/5'11\" [150lbs to 170lbs] (4 years) + (B: ...   \n",
       "\n",
       "                                    url  score  \n",
       "674            http://imgur.com/a/Tfl1m    127  \n",
       "667            http://imgur.com/a/ShrRf    131  \n",
       "434  https://i.redd.it/efccdmx6b3tz.jpg    244  "
      ]
     },
     "execution_count": 42,
     "metadata": {},
     "output_type": "execute_result"
    }
   ],
   "source": [
    "data.sample(3)"
   ]
  },
  {
   "cell_type": "markdown",
   "metadata": {},
   "source": [
    "<p>Looks good! Now let's add a column for total weight gain/loss and standardize the time lengths by converting them to days. These should help us out later when we analyze the data more.</p>\n",
    "\n",
    "<p>For converting to days, we're going to match the first letter of the <b>length_unit</b> entry. So for example, 'y' would be years, 'w' would be weeks, and 'm' would be months. This helps with differing abbrievations - i.e. 'yr' and 'yrs' is short for 'year(s)'. If the entry does not correspond to any of these, we are going to drop the row and mark it as missing data.</p>\n",
    "<p>For further time standards, we're going with one week as 7 days, one month as 30 days, and one year as 365 days.</p>"
   ]
  },
  {
   "cell_type": "code",
   "execution_count": 43,
   "metadata": {},
   "outputs": [
    {
     "data": {
      "text/html": [
       "<div>\n",
       "<table border=\"1\" class=\"dataframe\">\n",
       "  <thead>\n",
       "    <tr style=\"text-align: right;\">\n",
       "      <th></th>\n",
       "      <th>reddit_uid</th>\n",
       "      <th>gender</th>\n",
       "      <th>age</th>\n",
       "      <th>height_in</th>\n",
       "      <th>weight_start</th>\n",
       "      <th>weight_end</th>\n",
       "      <th>weight_change</th>\n",
       "      <th>total_days</th>\n",
       "      <th>subreddit</th>\n",
       "      <th>title</th>\n",
       "      <th>url</th>\n",
       "      <th>score</th>\n",
       "    </tr>\n",
       "  </thead>\n",
       "  <tbody>\n",
       "    <tr>\n",
       "      <th>307</th>\n",
       "      <td>3z2848</td>\n",
       "      <td>M</td>\n",
       "      <td>36</td>\n",
       "      <td>69</td>\n",
       "      <td>259</td>\n",
       "      <td>180</td>\n",
       "      <td>-79</td>\n",
       "      <td>1095</td>\n",
       "      <td>Brogress</td>\n",
       "      <td>M/36/5'9\" [259lbs to 180lbs] (3 years) I've po...</td>\n",
       "      <td>https://i.imgur.com/GlKBCBt.jpg</td>\n",
       "      <td>461</td>\n",
       "    </tr>\n",
       "    <tr>\n",
       "      <th>647</th>\n",
       "      <td>3m6274</td>\n",
       "      <td>M</td>\n",
       "      <td>24</td>\n",
       "      <td>75</td>\n",
       "      <td>215</td>\n",
       "      <td>185</td>\n",
       "      <td>-30</td>\n",
       "      <td>150</td>\n",
       "      <td>Brogress</td>\n",
       "      <td>M/24/6'3\" [215lbs to 185lbs] (5 months)</td>\n",
       "      <td>http://imgur.com/a/mMn3r</td>\n",
       "      <td>133</td>\n",
       "    </tr>\n",
       "    <tr>\n",
       "      <th>734</th>\n",
       "      <td>4rsxxk</td>\n",
       "      <td>M</td>\n",
       "      <td>24</td>\n",
       "      <td>71</td>\n",
       "      <td>143</td>\n",
       "      <td>191</td>\n",
       "      <td>48</td>\n",
       "      <td>240</td>\n",
       "      <td>Brogress</td>\n",
       "      <td>M/24/5'11\" [143lbs to 191lbs] (8 months)</td>\n",
       "      <td>http://imgur.com/a/txsPa</td>\n",
       "      <td>106</td>\n",
       "    </tr>\n",
       "    <tr>\n",
       "      <th>499</th>\n",
       "      <td>3wb5hw</td>\n",
       "      <td>M</td>\n",
       "      <td>20</td>\n",
       "      <td>70</td>\n",
       "      <td>250</td>\n",
       "      <td>170</td>\n",
       "      <td>-80</td>\n",
       "      <td>365</td>\n",
       "      <td>Brogress</td>\n",
       "      <td>M/20/5'10\" [250lbs to 170lbs] (1 year) + (B: 2...</td>\n",
       "      <td>http://imgur.com/NvPyg4M</td>\n",
       "      <td>196</td>\n",
       "    </tr>\n",
       "    <tr>\n",
       "      <th>468</th>\n",
       "      <td>5mucsd</td>\n",
       "      <td>M</td>\n",
       "      <td>25</td>\n",
       "      <td>77</td>\n",
       "      <td>208</td>\n",
       "      <td>197</td>\n",
       "      <td>-11</td>\n",
       "      <td>30</td>\n",
       "      <td>Brogress</td>\n",
       "      <td>M/25/6'5\" [208lbs to 197lbs] (1 month)</td>\n",
       "      <td>https://imgur.com/a/vuP7O</td>\n",
       "      <td>215</td>\n",
       "    </tr>\n",
       "  </tbody>\n",
       "</table>\n",
       "</div>"
      ],
      "text/plain": [
       "    reddit_uid gender  age  height_in  weight_start  weight_end  \\\n",
       "307     3z2848      M   36         69           259         180   \n",
       "647     3m6274      M   24         75           215         185   \n",
       "734     4rsxxk      M   24         71           143         191   \n",
       "499     3wb5hw      M   20         70           250         170   \n",
       "468     5mucsd      M   25         77           208         197   \n",
       "\n",
       "     weight_change total_days subreddit  \\\n",
       "307            -79       1095  Brogress   \n",
       "647            -30        150  Brogress   \n",
       "734             48        240  Brogress   \n",
       "499            -80        365  Brogress   \n",
       "468            -11         30  Brogress   \n",
       "\n",
       "                                                 title  \\\n",
       "307  M/36/5'9\" [259lbs to 180lbs] (3 years) I've po...   \n",
       "647            M/24/6'3\" [215lbs to 185lbs] (5 months)   \n",
       "734           M/24/5'11\" [143lbs to 191lbs] (8 months)   \n",
       "499  M/20/5'10\" [250lbs to 170lbs] (1 year) + (B: 2...   \n",
       "468             M/25/6'5\" [208lbs to 197lbs] (1 month)   \n",
       "\n",
       "                                 url  score  \n",
       "307  https://i.imgur.com/GlKBCBt.jpg    461  \n",
       "647         http://imgur.com/a/mMn3r    133  \n",
       "734         http://imgur.com/a/txsPa    106  \n",
       "499         http://imgur.com/NvPyg4M    196  \n",
       "468        https://imgur.com/a/vuP7O    215  "
      ]
     },
     "execution_count": 43,
     "metadata": {},
     "output_type": "execute_result"
    }
   ],
   "source": [
    "missing = set()\n",
    "for index, row in data.iterrows():\n",
    "    \n",
    "    #calculate weight change.\n",
    "    weight_change = row['weight_end'] - row['weight_start'] \n",
    "    try:\n",
    "        if (row['length_unit'][0] == 'y'):\n",
    "            total_days = row['length_amount'] * 365\n",
    "        elif (row['length_unit'][0] == 'm'):\n",
    "            total_days = row['length_amount'] * 30\n",
    "        elif (row['length_unit'][0] == 'w'):\n",
    "            total_days = row['length_amount'] * 7\n",
    "        else:\n",
    "            missing.add(index)\n",
    "            pass\n",
    "    except:\n",
    "            missing.add(index)\n",
    "            pass\n",
    "    \n",
    "    #update columns - will change column names after\n",
    "    data.at[index,'length_amount'] = weight_change\n",
    "    data.at[index,'length_unit'] = total_days\n",
    "    data.at[index,'gender'] = row['gender'].upper() #quick check to make sure gender is uppercaser\n",
    "    \n",
    "\n",
    "data.rename(columns={'length_amount': 'weight_change', 'length_unit': 'total_days'}, inplace=True)\n",
    "data.drop(x for x in missing) #pay respects to our missing friends\n",
    "data.reset_index() #to account for all of our drops so far (our last index does not match our amount of rows -1 )\n",
    "data.sample(5)"
   ]
  },
  {
   "cell_type": "markdown",
   "metadata": {},
   "source": [
    "<p>Looks great so far! Now we can finally have some fun and play with the data.</p>"
   ]
  },
  {
   "cell_type": "markdown",
   "metadata": {},
   "source": [
    "<h3>3. Data exploration</h3>\n",
    "<i>\"DataFrames just want to have fun\"</i>\n"
   ]
  },
  {
   "cell_type": "code",
   "execution_count": 44,
   "metadata": {},
   "outputs": [
    {
     "data": {
      "text/plain": [
       "[<matplotlib.text.Text at 0x7fb15e9fd358>,\n",
       " <matplotlib.text.Text at 0x7fb15e9e8978>,\n",
       " <matplotlib.text.Text at 0x7fb15e9998d0>]"
      ]
     },
     "execution_count": 44,
     "metadata": {},
     "output_type": "execute_result"
    },
    {
     "data": {
      "image/png": "[encoded data removed]",
      "text/plain": [
       "<matplotlib.figure.Figure at 0x7fb15e9ea748>"
      ]
     },
     "metadata": {},
     "output_type": "display_data"
    }
   ],
   "source": [
    "ax = data.groupby(['height_in']).mean().plot.bar( y='weight_change', figsize=(15,5))\n",
    "ax.set(xlabel='Height, in inches', ylabel='Average weight change', title=\"Average Weight Change vs Height\")"
   ]
  },
  {
   "cell_type": "markdown",
   "metadata": {},
   "source": [
    "<p>Pictured above is the average weight change for each each represented in our data set. Note that this is from both subreddits. Interestingly enough, it seems that there's quite a lack of transformations in the 70-74 inch range, which is generally considered average height. It looks like a lot of the transformations are from extreme ends of the height spectrum.</p>\n",
    "\n",
    "<p>Now let's see how this data changes when we differentiate between the subreddits.</p>"
   ]
  },
  {
   "cell_type": "code",
   "execution_count": 45,
   "metadata": {},
   "outputs": [
    {
     "data": {
      "text/plain": [
       "[<matplotlib.text.Text at 0x7fb1627fac88>,\n",
       " <matplotlib.text.Text at 0x7fb15ea67780>,\n",
       " <matplotlib.text.Text at 0x7fb15ec57710>]"
      ]
     },
     "execution_count": 45,
     "metadata": {},
     "output_type": "execute_result"
    },
    {
     "data": {
      "image/png": "[encoded data removed]",
      "text/plain": [
       "<matplotlib.figure.Figure at 0x7fb15e9416d8>"
      ]
     },
     "metadata": {},
     "output_type": "display_data"
    }
   ],
   "source": [
    "ax = data[['subreddit','height_in','weight_change']].groupby(['height_in','subreddit']).mean().unstack().plot.bar(figsize=(15,5))\n",
    "ax.set(xlabel='Height, in inches', ylabel='Average weight change', title=\"Average Weight Change vs Height per Subreddit\")"
   ]
  },
  {
   "cell_type": "markdown",
   "metadata": {},
   "source": [
    "<p>It seems that the Brogress subreddit is a little more focused on gaining weight rather than losing it!</p>"
   ]
  },
  {
   "cell_type": "markdown",
   "metadata": {},
   "source": [
    "<p>Reddit is also all about scoring content - users are able to upvote and downvote posts. A post's 'Score' is its net upvote and downvote count. So, what about score? Is there a correlation between weight change and score?</p>"
   ]
  },
  {
   "cell_type": "code",
   "execution_count": 46,
   "metadata": {},
   "outputs": [
    {
     "data": {
      "text/plain": [
       "[<matplotlib.text.Text at 0x7fb15e878668>,\n",
       " <matplotlib.text.Text at 0x7fb15e863470>,\n",
       " <matplotlib.text.Text at 0x7fb15e86de48>]"
      ]
     },
     "execution_count": 46,
     "metadata": {},
     "output_type": "execute_result"
    },
    {
     "data": {
      "image/png": "[encoded data removed]",
      "text/plain": [
       "<matplotlib.figure.Figure at 0x7fb15ecf6f60>"
      ]
     },
     "metadata": {},
     "output_type": "display_data"
    },
    {
     "data": {
      "image/png": "[encoded data removed]",
      "text/plain": [
       "<matplotlib.figure.Figure at 0x7fb162844588>"
      ]
     },
     "metadata": {},
     "output_type": "display_data"
    }
   ],
   "source": [
    "ax1 = data[data['subreddit'] == 'Brogress'].plot(kind='scatter', x='weight_change',y='score', figsize=(15,5))\n",
    "ax2 = data[data['subreddit'] == 'progresspics'].plot(kind='scatter', x='weight_change',y='score',figsize=(15,5))\n",
    "ax1.set(xlabel='Score', ylabel='Weight change', title=\"Average Weight Change vs Upvotes on /r/Brogress\")\n",
    "ax2.set(xlabel='Score', ylabel='Weight change', title=\"Average Weight Change vs Upvotes on /r/Progresspics\")                                                     "
   ]
  },
  {
   "cell_type": "markdown",
   "metadata": {},
   "source": [
    "<p>At first glance, it becomes apparant that pretty on both subreddits the score for the various posts typically cluster together. There are a few outliers on each plot, but it doesn't score vs weight change doesn't seem to scale well. For example, one might think that more weight loss or gain is impressive and might recieve more upvotes, however that does not seem to be the case.</p>\n",
    "\n",
    "<p>Another thing these plots highlight is again that /r/brogress seems more about gaining than losing weight.</p>"
   ]
  },
  {
   "cell_type": "markdown",
   "metadata": {},
   "source": [
    "<p>Let's look at the gender distribution between the subreddits in our dataset by making some pie charts.</p>"
   ]
  },
  {
   "cell_type": "code",
   "execution_count": 47,
   "metadata": {},
   "outputs": [
    {
     "data": {
      "text/html": [
       "<div>\n",
       "<table border=\"1\" class=\"dataframe\">\n",
       "  <thead>\n",
       "    <tr style=\"text-align: right;\">\n",
       "      <th>gender</th>\n",
       "      <th>subreddit</th>\n",
       "      <th>F</th>\n",
       "      <th>M</th>\n",
       "    </tr>\n",
       "  </thead>\n",
       "  <tbody>\n",
       "    <tr>\n",
       "      <th>0</th>\n",
       "      <td>Brogress</td>\n",
       "      <td>20</td>\n",
       "      <td>509</td>\n",
       "    </tr>\n",
       "    <tr>\n",
       "      <th>1</th>\n",
       "      <td>progresspics</td>\n",
       "      <td>221</td>\n",
       "      <td>73</td>\n",
       "    </tr>\n",
       "  </tbody>\n",
       "</table>\n",
       "</div>"
      ],
      "text/plain": [
       "gender     subreddit    F    M\n",
       "0           Brogress   20  509\n",
       "1       progresspics  221   73"
      ]
     },
     "execution_count": 47,
     "metadata": {},
     "output_type": "execute_result"
    }
   ],
   "source": [
    "#groupbygender\n",
    "genders = data.groupby(['gender','subreddit']).size().unstack(0)\n",
    "f = genders.reset_index(0)\n",
    "f"
   ]
  },
  {
   "cell_type": "code",
   "execution_count": 48,
   "metadata": {},
   "outputs": [
    {
     "data": {
      "text/plain": [
       "(-1.0651014278268724,\n",
       " 1.1463467438405819,\n",
       " -1.2595358194380675,\n",
       " 1.1075969437827651)"
      ]
     },
     "execution_count": 48,
     "metadata": {},
     "output_type": "execute_result"
    },
    {
     "data": {
      "image/png": "[encoded data removed]",
      "text/plain": [
       "<matplotlib.figure.Figure at 0x7fb15e845358>"
      ]
     },
     "metadata": {},
     "output_type": "display_data"
    },
    {
     "data": {
      "image/png": "[encoded data removed]",
      "text/plain": [
       "<matplotlib.figure.Figure at 0x7fb15e760dd8>"
      ]
     },
     "metadata": {},
     "output_type": "display_data"
    }
   ],
   "source": [
    "genders.reset_index(0)\n",
    "plt.figure(1)\n",
    "\n",
    "plt.pie(\n",
    "    f['M'],\n",
    "    labels=f['subreddit'],\n",
    "    autopct='%1.1f%%',\n",
    "    explode=( 0, 0.15),\n",
    "    colors = [\"skyblue\",\"green\"],\n",
    "    startangle=90,\n",
    ")\n",
    "plt.axis('equal')\n",
    "plt.figure(2)\n",
    "plt.pie(\n",
    "    f['F'],\n",
    "    labels=f['subreddit'],\n",
    "    autopct='%1.1f%%',\n",
    "    explode=( 0, 0.15),\n",
    "    colors = [\"pink\",\"purple\"],\n",
    "    startangle=90,\n",
    ")\n",
    "plt.axis('equal')"
   ]
  },
  {
   "cell_type": "markdown",
   "metadata": {},
   "source": [
    "<p>The top blue and green pie chart shows that for all the males in our dataset, almost 88% of them posted on /r/brogress instead of /r/progresspics. The bottom plot shows that almost 92% of females in our dataset posted on /r/progresspics instead of /r/brogress. This just highlights that there is a large gap in gender between each subreddit.</p>"
   ]
  },
  {
   "cell_type": "markdown",
   "metadata": {},
   "source": [
    "<p>With that being said, let's look at the minority's post scores in each subreddit. Let's plot the same plots above of weight change vs. score, but highlight the minority gender in red for each one, and see if there are any noticable trends. Does the minority gender score higher or lower in either subreddit?</p>"
   ]
  },
  {
   "cell_type": "code",
   "execution_count": 49,
   "metadata": {},
   "outputs": [
    {
     "data": {
      "text/plain": [
       "[<matplotlib.text.Text at 0x7fb15e644208>,\n",
       " <matplotlib.text.Text at 0x7fb15e63f320>,\n",
       " <matplotlib.text.Text at 0x7fb15e64a7f0>]"
      ]
     },
     "execution_count": 49,
     "metadata": {},
     "output_type": "execute_result"
    },
    {
     "data": {
      "image/png": "[encoded data removed]",
      "text/plain": [
       "<matplotlib.figure.Figure at 0x7fb15e70b748>"
      ]
     },
     "metadata": {},
     "output_type": "display_data"
    },
    {
     "data": {
      "image/png": "[encoded data removed]",
      "text/plain": [
       "<matplotlib.figure.Figure at 0x7fb15e624d68>"
      ]
     },
     "metadata": {},
     "output_type": "display_data"
    }
   ],
   "source": [
    "\n",
    "\n",
    "# plot each one\n",
    "ax1 = data[(data['subreddit'] == 'Brogress') & (data['gender'] == 'F')].set_index('gender').plot(kind='scatter', x='weight_change',y='score', figsize=(15,5), color=\"red\")\n",
    "data[(data['subreddit'] == 'Brogress') & (data['gender'] == 'M')].set_index('gender').plot(kind='scatter', x='weight_change',y='score', figsize=(15,5), ax = ax1)\n",
    "\n",
    "\n",
    "ax2 = data[(data['subreddit'] == 'progresspics') & (data['gender'] == 'F')].plot(kind='scatter', x='weight_change',y='score',figsize=(15,5))\n",
    "ax2 = data[(data['subreddit'] == 'progresspics') & (data['gender'] == 'M')].plot(kind='scatter', x='weight_change',y='score',figsize=(15,5), color=\"red\", ax = ax2)\n",
    "\n",
    "ax1.set(xlabel='Score', ylabel='Weight change', title=\"Average Weight Change vs Upvotes on /r/Brogress (Females in red)\")\n",
    "ax2.set(xlabel='Score', ylabel='Weight change', title=\"Average Weight Change vs Upvotes on /r/Progresspics (Males in red)\")                                                     "
   ]
  },
  {
   "cell_type": "markdown",
   "metadata": {},
   "source": [
    "<p>There's not enough evidence to draw a conclusion on whether or not the minority scores higher in either subreddit (doesn't look like it), but one interesting thing to note is that males who lost weight posted more in /r/progresspics rather than /r/brogress.</p>"
   ]
  },
  {
   "cell_type": "markdown",
   "metadata": {},
   "source": [
    "<h3>4. Classification</h3>\n",
    "<i>\"Bro or Pro? Let's find out.\"</i>"
   ]
  },
  {
   "cell_type": "markdown",
   "metadata": {},
   "source": [
    "<p> Now we're going to see if we can train a __[Random Forest Classifier](https://en.wikipedia.org/wiki/Random_forest)__ that can predicate which subreddit a person would post on based on their gender, age, height and weight change.</p>\n",
    "<p>Let's start by copying the dataframe.</p>"
   ]
  },
  {
   "cell_type": "code",
   "execution_count": 50,
   "metadata": {
    "collapsed": true
   },
   "outputs": [],
   "source": [
    "model = data.copy()"
   ]
  },
  {
   "cell_type": "markdown",
   "metadata": {},
   "source": [
    "<p>Let's then seperate our data into training and test data, and then formally define our features. As stated above, these will be the features which will be considered when classifying.</p>"
   ]
  },
  {
   "cell_type": "code",
   "execution_count": 51,
   "metadata": {
    "collapsed": true
   },
   "outputs": [],
   "source": [
    "model['is_train'] = np.random.uniform(0, 1, len(model)) <= .70"
   ]
  },
  {
   "cell_type": "code",
   "execution_count": 52,
   "metadata": {
    "collapsed": true
   },
   "outputs": [],
   "source": [
    "features = ['gender','age','height_in','weight_change']"
   ]
  },
  {
   "cell_type": "markdown",
   "metadata": {},
   "source": [
    "<p>Now let's quickly switch the gender to a number; 0 for female, and 1 for male.</p>"
   ]
  },
  {
   "cell_type": "code",
   "execution_count": 53,
   "metadata": {
    "collapsed": true
   },
   "outputs": [],
   "source": [
    "for index, row in model.iterrows():      \n",
    "    if (row['gender'] == 'F'):\n",
    "        model.at[index,'gender'] = 0\n",
    "    elif (row['gender'] == 'M'):\n",
    "        model.at[index,'gender'] = 1"
   ]
  },
  {
   "cell_type": "markdown",
   "metadata": {},
   "source": [
    "<p> Now let's seperate the sets into two different datatables.</p>"
   ]
  },
  {
   "cell_type": "code",
   "execution_count": 54,
   "metadata": {
    "collapsed": true
   },
   "outputs": [],
   "source": [
    "train, test = model[model['is_train']==True], model[model['is_train']==False]"
   ]
  },
  {
   "cell_type": "markdown",
   "metadata": {},
   "source": [
    "<p>Now let's generate numerics results for our classifications. 0 for progresspics, 1 for brogress.</p>"
   ]
  },
  {
   "cell_type": "code",
   "execution_count": 55,
   "metadata": {
    "collapsed": true
   },
   "outputs": [],
   "source": [
    "y = pd.factorize(train['subreddit'])[0]"
   ]
  },
  {
   "cell_type": "markdown",
   "metadata": {},
   "source": [
    "<p>Now let's make it and train it!</p>"
   ]
  },
  {
   "cell_type": "code",
   "execution_count": 56,
   "metadata": {
    "collapsed": true
   },
   "outputs": [],
   "source": [
    "clf = RandomForestClassifier(n_jobs=2, random_state=0)"
   ]
  },
  {
   "cell_type": "code",
   "execution_count": 57,
   "metadata": {},
   "outputs": [
    {
     "data": {
      "text/plain": [
       "RandomForestClassifier(bootstrap=True, class_weight=None, criterion='gini',\n",
       "            max_depth=None, max_features='auto', max_leaf_nodes=None,\n",
       "            min_impurity_split=1e-07, min_samples_leaf=1,\n",
       "            min_samples_split=2, min_weight_fraction_leaf=0.0,\n",
       "            n_estimators=10, n_jobs=2, oob_score=False, random_state=0,\n",
       "            verbose=0, warm_start=False)"
      ]
     },
     "execution_count": 57,
     "metadata": {},
     "output_type": "execute_result"
    }
   ],
   "source": [
    "clf.fit(train[features], y)"
   ]
  },
  {
   "cell_type": "markdown",
   "metadata": {},
   "source": [
    "<p>Now let's put out test data to use and see how accurate our model is at prediciting.</p>\n",
    "<p>We're going to run a 10-fold cross-validation on our testing data.</p>"
   ]
  },
  {
   "cell_type": "code",
   "execution_count": 58,
   "metadata": {},
   "outputs": [
    {
     "data": {
      "text/plain": [
       "0.91004611330698282"
      ]
     },
     "execution_count": 58,
     "metadata": {},
     "output_type": "execute_result"
    }
   ],
   "source": [
    "x = pd.factorize(test['subreddit'])[0]\n",
    "scores = cross_val_score(clf, test[features], x, cv=10)\n",
    "scores.mean()"
   ]
  },
  {
   "cell_type": "markdown",
   "metadata": {},
   "source": [
    "<p>Hey, that isn't that bad! Let's do a quick example just to clarify what is happening.</p>"
   ]
  },
  {
   "cell_type": "code",
   "execution_count": 59,
   "metadata": {
    "collapsed": true
   },
   "outputs": [],
   "source": [
    "stats = [1, 29, 69, -50]"
   ]
  },
  {
   "cell_type": "markdown",
   "metadata": {},
   "source": [
    "These stats are for a male who is 29 years old, 69 inches tall and has lost 15 pounds. Which subreddit do you think our classifier will think he'll post in?"
   ]
  },
  {
   "cell_type": "code",
   "execution_count": 60,
   "metadata": {},
   "outputs": [
    {
     "data": {
      "text/plain": [
       "1"
      ]
     },
     "execution_count": 60,
     "metadata": {},
     "output_type": "execute_result"
    }
   ],
   "source": [
    "clf.predict([[1, 29, 69, -15]])[0]"
   ]
  },
  {
   "cell_type": "markdown",
   "metadata": {},
   "source": [
    "<p>Our classifier says /r/progresspics. Neato.</p>\n",
    "<p>Let's quickly breakdown what our classifier thought was important when classifiying:</p>"
   ]
  },
  {
   "cell_type": "code",
   "execution_count": 61,
   "metadata": {},
   "outputs": [
    {
     "data": {
      "text/plain": [
       "[('gender', 0.4818977716524005),\n",
       " ('age', 0.079080789984870711),\n",
       " ('height_in', 0.070160055183241046),\n",
       " ('weight_change', 0.36886138317948769)]"
      ]
     },
     "execution_count": 61,
     "metadata": {},
     "output_type": "execute_result"
    }
   ],
   "source": [
    "list(zip(train[features], clf.feature_importances_))"
   ]
  },
  {
   "cell_type": "markdown",
   "metadata": {},
   "source": [
    "<h3>4. Wrap up</h3>\n",
    "<i>\"That's a (healthy & low calorie wrap)\" - /r/progresspics</i>"
   ]
  },
  {
   "cell_type": "markdown",
   "metadata": {},
   "source": [
    "<p>So, what have we learned today? We learned quite a bit about scraping and tidying data from a popular website. We got a chance to play with the data and make some interesting visualizations. We also found out that it seems the 'bro' in /r/brogress is no misnomer - a lot of males who seem to want to put on weight, and that just because a transformation is extreme dosen't mean it will net you a lot of upvotes. And lastly, we trained our own classifier with our data to see if we could predict which subreddit a user would post their transformation in (and it turned out great!).</p>"
   ]
  }
 ],
 "metadata": {
  "kernelspec": {
   "display_name": "Python 3",
   "language": "python",
   "name": "python3"
  },
  "language_info": {
   "codemirror_mode": {
    "name": "ipython",
    "version": 3
   },
   "file_extension": ".py",
   "mimetype": "text/x-python",
   "name": "python",
   "nbconvert_exporter": "python",
   "pygments_lexer": "ipython3",
   "version": "3.6.2"
  }
 },
 "nbformat": 4,
 "nbformat_minor": 2
}
